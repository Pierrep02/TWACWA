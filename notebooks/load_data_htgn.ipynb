{
 "cells": [
  {
   "cell_type": "markdown",
   "metadata": {},
   "source": [
    "# Loading HTGN Data "
   ]
  },
  {
   "cell_type": "code",
   "execution_count": 14,
   "metadata": {},
   "outputs": [],
   "source": [
    "from os.path import join \n",
    "import numpy as np \n",
    "import pandas as pd\n",
    "import pickle\n",
    "from torch_geometric.utils.convert import from_scipy_sparse_matrix\n",
    "import torch"
   ]
  },
  {
   "cell_type": "markdown",
   "metadata": {},
   "source": [
    "## UTILS"
   ]
  },
  {
   "cell_type": "code",
   "execution_count": 2,
   "metadata": {},
   "outputs": [],
   "source": [
    "def save_as_csv(u,i,t,w,save_path):\n",
    "    df = pd.DataFrame({'u':u,'i':i,'ts':t,'label':w})\n",
    "    df.to_csv(save_path,index=False)\n",
    "\n",
    "\n",
    "def convert_to_dgb(datadir_src, dg_file):\n",
    "    \n",
    "    with open(join(datadir_src, dg_file), 'rb') as f:\n",
    "        dg = pickle.load(f, encoding='latin1')\n",
    "    all_u = []\n",
    "    all_i = []\n",
    "    all_t = []\n",
    "    all_w = []\n",
    "    count_link = 0\n",
    "    for i,d in enumerate(dg):\n",
    "        ei, w = from_scipy_sparse_matrix(dg[i])\n",
    "        u = ei[0].numpy()\n",
    "        v = ei[1].numpy()\n",
    "        t = np.ones(len(u))*i\n",
    "        count_link += len(u)\n",
    "        all_u.append(u)\n",
    "        all_i.append(v)\n",
    "        all_t.append(t)\n",
    "        all_w.append(w.numpy())\n",
    "    all_u = np.concatenate(all_u)\n",
    "    all_i = np.concatenate(all_i)\n",
    "    all_t = np.concatenate(all_t)\n",
    "    all_w = np.concatenate(all_w)\n",
    "\n",
    "    print('Number of snapshots: ',i+1)\n",
    "    print('Number of links: ',count_link)\n",
    "    print('Number of nodes: ',max(np.unique(np.concatenate((all_u,all_i)))) +1 )\n",
    "    return all_u, all_i, all_t, all_w"
   ]
  },
  {
   "cell_type": "markdown",
   "metadata": {},
   "source": [
    "## Colab"
   ]
  },
  {
   "cell_type": "markdown",
   "metadata": {},
   "source": [
    "### Dest "
   ]
  },
  {
   "cell_type": "code",
   "execution_count": 3,
   "metadata": {},
   "outputs": [],
   "source": [
    "#path \n",
    "datadir_dst = '/home/karmim/Documents/These/DynamicGraphTransformer/TG_Network_datasets'\n",
    "name = 'Colab'\n",
    "dataset_dst = join(datadir_dst,name)\n",
    "file_save = join(datadir_dst, name,'ml_'+str(name)+'.csv')"
   ]
  },
  {
   "cell_type": "code",
   "execution_count": 4,
   "metadata": {},
   "outputs": [
    {
     "data": {
      "text/plain": [
       "'/home/karmim/Documents/These/DynamicGraphTransformer/TG_Network_datasets/Colab/ml_Colab.csv'"
      ]
     },
     "execution_count": 4,
     "metadata": {},
     "output_type": "execute_result"
    }
   ],
   "source": [
    "file_save"
   ]
  },
  {
   "cell_type": "markdown",
   "metadata": {},
   "source": [
    "### Source "
   ]
  },
  {
   "cell_type": "code",
   "execution_count": 5,
   "metadata": {},
   "outputs": [],
   "source": [
    "datadir_src = \"/home/karmim/Documents/These/DynamicGraphTransformer/data/input/raw/dblp\"\n",
    "dg_file = \"adj_time_list.pickle\"\n"
   ]
  },
  {
   "cell_type": "code",
   "execution_count": 6,
   "metadata": {},
   "outputs": [
    {
     "name": "stdout",
     "output_type": "stream",
     "text": [
      "Number of snapshots:  10\n",
      "Number of links:  5104\n",
      "Number of nodes:  315\n"
     ]
    },
    {
     "name": "stderr",
     "output_type": "stream",
     "text": [
      "/tmp/ipykernel_15887/3054238689.py:9: DeprecationWarning: Please use `csr_matrix` from the `scipy.sparse` namespace, the `scipy.sparse.csr` namespace is deprecated.\n",
      "  dg = pickle.load(f, encoding='latin1')\n"
     ]
    }
   ],
   "source": [
    "\n",
    "all_u, all_i, all_t, all_w = convert_to_dgb(datadir_src, dg_file)"
   ]
  },
  {
   "cell_type": "code",
   "execution_count": 7,
   "metadata": {},
   "outputs": [],
   "source": [
    "save_as_csv(all_u,all_i,all_t,all_w,file_save)"
   ]
  },
  {
   "cell_type": "code",
   "execution_count": 8,
   "metadata": {},
   "outputs": [
    {
     "data": {
      "text/plain": [
       "'/home/karmim/Documents/These/DynamicGraphTransformer/TG_Network_datasets/Colab/ml_Colab.csv'"
      ]
     },
     "execution_count": 8,
     "metadata": {},
     "output_type": "execute_result"
    }
   ],
   "source": [
    "file_save"
   ]
  },
  {
   "attachments": {},
   "cell_type": "markdown",
   "metadata": {},
   "source": [
    "## Enron"
   ]
  },
  {
   "cell_type": "markdown",
   "metadata": {},
   "source": [
    "### Dest "
   ]
  },
  {
   "cell_type": "code",
   "execution_count": 48,
   "metadata": {},
   "outputs": [],
   "source": [
    "#path \n",
    "datadir_dst = '/home/karmim/Documents/These/DynamicGraphTransformer/TG_Network_datasets'\n",
    "name = 'Enron'\n",
    "dataset_dst = join(datadir_dst,name)\n",
    "file_save = join(datadir_dst, name,'ml_'+str(name)+'.csv')"
   ]
  },
  {
   "cell_type": "markdown",
   "metadata": {},
   "source": [
    "### Source "
   ]
  },
  {
   "cell_type": "code",
   "execution_count": 49,
   "metadata": {},
   "outputs": [],
   "source": [
    "datadir_src = \"/home/karmim/Documents/These/DynamicGraphTransformer/data/input/raw/enron10\"\n",
    "dg_file = \"adj_time_list.pickle\""
   ]
  },
  {
   "cell_type": "code",
   "execution_count": 50,
   "metadata": {},
   "outputs": [
    {
     "name": "stdout",
     "output_type": "stream",
     "text": [
      "Number of snapshots:  11\n",
      "Number of links:  4784\n",
      "Number of nodes:  184\n"
     ]
    },
    {
     "name": "stderr",
     "output_type": "stream",
     "text": [
      "/tmp/ipykernel_15887/3054238689.py:9: DeprecationWarning: Please use `csr_matrix` from the `scipy.sparse` namespace, the `scipy.sparse.csr` namespace is deprecated.\n",
      "  dg = pickle.load(f, encoding='latin1')\n"
     ]
    }
   ],
   "source": [
    "all_u, all_i, all_t, all_w = convert_to_dgb(datadir_src, dg_file)"
   ]
  },
  {
   "cell_type": "code",
   "execution_count": 51,
   "metadata": {},
   "outputs": [],
   "source": [
    "save_as_csv(all_u,all_i,all_t,all_w,file_save)"
   ]
  },
  {
   "cell_type": "code",
   "execution_count": 52,
   "metadata": {},
   "outputs": [
    {
     "data": {
      "text/plain": [
       "'/home/karmim/Documents/These/DynamicGraphTransformer/TG_Network_datasets/Enron/ml_Enron.csv'"
      ]
     },
     "execution_count": 52,
     "metadata": {},
     "output_type": "execute_result"
    }
   ],
   "source": [
    "file_save"
   ]
  },
  {
   "cell_type": "markdown",
   "metadata": {},
   "source": [
    "## AS733"
   ]
  },
  {
   "cell_type": "markdown",
   "metadata": {},
   "source": [
    "### Dest "
   ]
  },
  {
   "cell_type": "code",
   "execution_count": 12,
   "metadata": {},
   "outputs": [],
   "source": [
    "#path \n",
    "datadir_dst = '/home/karmim/Documents/These/DynamicGraphTransformer/TG_Network_datasets'\n",
    "name = 'AS733'\n",
    "dataset_dst = join(datadir_dst,name)\n",
    "file_save = join(datadir_dst, name,'ml_'+str(name)+'.csv')"
   ]
  },
  {
   "cell_type": "markdown",
   "metadata": {},
   "source": [
    "### Source"
   ]
  },
  {
   "cell_type": "code",
   "execution_count": 13,
   "metadata": {},
   "outputs": [],
   "source": [
    "datadir_src = \"/home/karmim/Documents/These/DynamicGraphTransformer/data/input/processed/as733\"\n",
    "dg_file = \"as733.pt\""
   ]
  },
  {
   "cell_type": "code",
   "execution_count": 15,
   "metadata": {},
   "outputs": [],
   "source": [
    "dg = torch.load(join(datadir_src, dg_file))"
   ]
  },
  {
   "cell_type": "code",
   "execution_count": 28,
   "metadata": {},
   "outputs": [
    {
     "name": "stdout",
     "output_type": "stream",
     "text": [
      "Number of snapshots:  30\n",
      "Number of links:  163807\n",
      "Number of nodes:  6628\n"
     ]
    }
   ],
   "source": [
    "all_u = []\n",
    "all_i = []\n",
    "all_t = []\n",
    "all_w = []\n",
    "count_link = 0\n",
    "for i, d in enumerate(dg): \n",
    "    u = np.array(dg[i]).T[0]\n",
    "    v = np.array(dg[i]).T[1]\n",
    "    t = np.ones(len(u))*i\n",
    "    w = np.ones(len(u))\n",
    "    count_link += len(u)\n",
    "    all_u.append(u)\n",
    "    all_i.append(v)\n",
    "    all_t.append(t)\n",
    "    all_w.append(w)\n",
    "\n",
    "all_u = np.concatenate(all_u)\n",
    "all_i = np.concatenate(all_i)\n",
    "all_t = np.concatenate(all_t)\n",
    "all_w = np.concatenate(all_w)\n",
    "print('Number of snapshots: ',i+1)\n",
    "print('Number of links: ',count_link)\n",
    "print('Number of nodes: ',max(np.unique(np.concatenate((all_u,all_i)))) +1 )"
   ]
  },
  {
   "cell_type": "code",
   "execution_count": 29,
   "metadata": {},
   "outputs": [],
   "source": [
    "save_as_csv(all_u,all_i,all_t,all_w,file_save)"
   ]
  },
  {
   "cell_type": "code",
   "execution_count": 30,
   "metadata": {},
   "outputs": [
    {
     "data": {
      "text/plain": [
       "'/home/karmim/Documents/These/DynamicGraphTransformer/TG_Network_datasets/AS733/ml_AS733.csv'"
      ]
     },
     "execution_count": 30,
     "metadata": {},
     "output_type": "execute_result"
    }
   ],
   "source": [
    "file_save"
   ]
  },
  {
   "cell_type": "markdown",
   "metadata": {},
   "source": [
    "## HepPh"
   ]
  },
  {
   "cell_type": "markdown",
   "metadata": {},
   "source": [
    "### Dest "
   ]
  },
  {
   "cell_type": "code",
   "execution_count": 31,
   "metadata": {},
   "outputs": [],
   "source": [
    "#path \n",
    "datadir_dst = '/home/karmim/Documents/These/DynamicGraphTransformer/TG_Network_datasets'\n",
    "name = 'HepPh'\n",
    "dataset_dst = join(datadir_dst,name)\n",
    "file_save = join(datadir_dst, name,'ml_'+str(name)+'.csv')"
   ]
  },
  {
   "cell_type": "markdown",
   "metadata": {},
   "source": [
    "### Source"
   ]
  },
  {
   "cell_type": "code",
   "execution_count": 32,
   "metadata": {},
   "outputs": [],
   "source": [
    "datadir_src = \"/home/karmim/Documents/These/DynamicGraphTransformer/data/input/processed/HepPh30\"\n",
    "\n",
    "dg_file = \"HepPh30.pt\""
   ]
  },
  {
   "cell_type": "code",
   "execution_count": 44,
   "metadata": {},
   "outputs": [],
   "source": [
    "dg = torch.load(join(datadir_src, dg_file))"
   ]
  },
  {
   "cell_type": "code",
   "execution_count": 45,
   "metadata": {},
   "outputs": [
    {
     "name": "stdout",
     "output_type": "stream",
     "text": [
      "Number of snapshots:  36\n",
      "Number of links:  1631581\n",
      "Number of nodes:  15330\n"
     ]
    }
   ],
   "source": [
    "all_u = []\n",
    "all_i = []\n",
    "all_t = []\n",
    "all_w = []\n",
    "count_link = 0\n",
    "for i, d in enumerate(dg): \n",
    "    u = np.array(dg[i]).T[0]\n",
    "    v = np.array(dg[i]).T[1]\n",
    "    t = np.ones(len(u))*i\n",
    "    w = np.ones(len(u))\n",
    "    count_link += len(u)\n",
    "    all_u.append(u)\n",
    "    all_i.append(v)\n",
    "    all_t.append(t)\n",
    "    all_w.append(w)\n",
    "\n",
    "all_u = np.concatenate(all_u)\n",
    "all_i = np.concatenate(all_i)\n",
    "all_t = np.concatenate(all_t)\n",
    "all_w = np.concatenate(all_w)\n",
    "print('Number of snapshots: ',i+1)\n",
    "print('Number of links: ',count_link)\n",
    "print('Number of nodes: ',max(np.unique(np.concatenate((all_u,all_i)))) +1 )"
   ]
  },
  {
   "cell_type": "code",
   "execution_count": 46,
   "metadata": {},
   "outputs": [],
   "source": [
    "save_as_csv(all_u,all_i,all_t,all_w,file_save)"
   ]
  },
  {
   "cell_type": "code",
   "execution_count": 47,
   "metadata": {},
   "outputs": [
    {
     "data": {
      "text/plain": [
       "'/home/karmim/Documents/These/DynamicGraphTransformer/TG_Network_datasets/HepPh/ml_HepPh.csv'"
      ]
     },
     "execution_count": 47,
     "metadata": {},
     "output_type": "execute_result"
    }
   ],
   "source": [
    "file_save"
   ]
  },
  {
   "cell_type": "markdown",
   "metadata": {},
   "source": [
    "## DISEASE"
   ]
  },
  {
   "cell_type": "markdown",
   "metadata": {},
   "source": [
    "### Dest "
   ]
  },
  {
   "cell_type": "code",
   "execution_count": 54,
   "metadata": {},
   "outputs": [],
   "source": [
    "#path \n",
    "datadir_dst = '/home/karmim/Documents/These/DynamicGraphTransformer/TG_Network_datasets'\n",
    "name = 'DISEASE'\n",
    "dataset_dst = join(datadir_dst,name)\n",
    "file_save = join(datadir_dst, name,'ml_'+str(name)+'.csv')"
   ]
  },
  {
   "cell_type": "code",
   "execution_count": 57,
   "metadata": {},
   "outputs": [],
   "source": [
    "datadir_src = \"/home/karmim/Documents/These/DynamicGraphTransformer/data/input/raw/disease\"\n",
    "dg_file = \"disease.csv\""
   ]
  },
  {
   "cell_type": "code",
   "execution_count": 58,
   "metadata": {},
   "outputs": [],
   "source": [
    "df =  pd.read_csv(join(datadir_src, dg_file), sep=',', header=None)"
   ]
  },
  {
   "cell_type": "code",
   "execution_count": 59,
   "metadata": {},
   "outputs": [
    {
     "data": {
      "text/html": [
       "<div>\n",
       "<style scoped>\n",
       "    .dataframe tbody tr th:only-of-type {\n",
       "        vertical-align: middle;\n",
       "    }\n",
       "\n",
       "    .dataframe tbody tr th {\n",
       "        vertical-align: top;\n",
       "    }\n",
       "\n",
       "    .dataframe thead th {\n",
       "        text-align: right;\n",
       "    }\n",
       "</style>\n",
       "<table border=\"1\" class=\"dataframe\">\n",
       "  <thead>\n",
       "    <tr style=\"text-align: right;\">\n",
       "      <th></th>\n",
       "      <th>0</th>\n",
       "      <th>1</th>\n",
       "    </tr>\n",
       "  </thead>\n",
       "  <tbody>\n",
       "    <tr>\n",
       "      <th>0</th>\n",
       "      <td>0</td>\n",
       "      <td>1</td>\n",
       "    </tr>\n",
       "    <tr>\n",
       "      <th>1</th>\n",
       "      <td>0</td>\n",
       "      <td>2</td>\n",
       "    </tr>\n",
       "    <tr>\n",
       "      <th>2</th>\n",
       "      <td>0</td>\n",
       "      <td>3</td>\n",
       "    </tr>\n",
       "    <tr>\n",
       "      <th>3</th>\n",
       "      <td>0</td>\n",
       "      <td>4</td>\n",
       "    </tr>\n",
       "    <tr>\n",
       "      <th>4</th>\n",
       "      <td>0</td>\n",
       "      <td>5</td>\n",
       "    </tr>\n",
       "    <tr>\n",
       "      <th>...</th>\n",
       "      <td>...</td>\n",
       "      <td>...</td>\n",
       "    </tr>\n",
       "    <tr>\n",
       "      <th>2659</th>\n",
       "      <td>427</td>\n",
       "      <td>2660</td>\n",
       "    </tr>\n",
       "    <tr>\n",
       "      <th>2660</th>\n",
       "      <td>427</td>\n",
       "      <td>2661</td>\n",
       "    </tr>\n",
       "    <tr>\n",
       "      <th>2661</th>\n",
       "      <td>427</td>\n",
       "      <td>2662</td>\n",
       "    </tr>\n",
       "    <tr>\n",
       "      <th>2662</th>\n",
       "      <td>427</td>\n",
       "      <td>2663</td>\n",
       "    </tr>\n",
       "    <tr>\n",
       "      <th>2663</th>\n",
       "      <td>427</td>\n",
       "      <td>2664</td>\n",
       "    </tr>\n",
       "  </tbody>\n",
       "</table>\n",
       "<p>2664 rows × 2 columns</p>\n",
       "</div>"
      ],
      "text/plain": [
       "        0     1\n",
       "0       0     1\n",
       "1       0     2\n",
       "2       0     3\n",
       "3       0     4\n",
       "4       0     5\n",
       "...   ...   ...\n",
       "2659  427  2660\n",
       "2660  427  2661\n",
       "2661  427  2662\n",
       "2662  427  2663\n",
       "2663  427  2664\n",
       "\n",
       "[2664 rows x 2 columns]"
      ]
     },
     "execution_count": 59,
     "metadata": {},
     "output_type": "execute_result"
    }
   ],
   "source": [
    "df"
   ]
  },
  {
   "cell_type": "code",
   "execution_count": 67,
   "metadata": {},
   "outputs": [],
   "source": [
    "import scipy.sparse as sp"
   ]
  },
  {
   "cell_type": "code",
   "execution_count": 63,
   "metadata": {},
   "outputs": [],
   "source": [
    "datadir_src = \"/home/karmim/Documents/These/DynamicGraphTransformer/data/input/raw/disease\"\n",
    "dg_file = \"disease_lp.feats.npz\""
   ]
  },
  {
   "cell_type": "code",
   "execution_count": 69,
   "metadata": {},
   "outputs": [
    {
     "data": {
      "text/plain": [
       "(2665, 11)"
      ]
     },
     "execution_count": 69,
     "metadata": {},
     "output_type": "execute_result"
    }
   ],
   "source": [
    "sp.load_npz(join(datadir_src,dg_file)).toarray().shape"
   ]
  },
  {
   "cell_type": "code",
   "execution_count": 64,
   "metadata": {},
   "outputs": [],
   "source": [
    "dg = np.load(join(datadir_src, dg_file))"
   ]
  },
  {
   "cell_type": "code",
   "execution_count": 65,
   "metadata": {},
   "outputs": [
    {
     "data": {
      "text/plain": [
       "NpzFile '/home/karmim/Documents/These/DynamicGraphTransformer/data/input/raw/disease/disease_lp.feats.npz' with keys: indices, indptr, format, shape, data"
      ]
     },
     "execution_count": 65,
     "metadata": {},
     "output_type": "execute_result"
    }
   ],
   "source": [
    "dg"
   ]
  },
  {
   "cell_type": "code",
   "execution_count": 70,
   "metadata": {},
   "outputs": [],
   "source": [
    "dg_file = \"disease_lp.edges.csv\"\n",
    "\n",
    "df = pd.read_csv(join(datadir_src, dg_file), sep=',', header=None)"
   ]
  },
  {
   "cell_type": "code",
   "execution_count": 72,
   "metadata": {},
   "outputs": [
    {
     "data": {
      "text/plain": [
       "array([[   0,    1],\n",
       "       [   0,    2],\n",
       "       [   0,    3],\n",
       "       ...,\n",
       "       [ 427, 2662],\n",
       "       [ 427, 2663],\n",
       "       [ 427, 2664]])"
      ]
     },
     "execution_count": 72,
     "metadata": {},
     "output_type": "execute_result"
    }
   ],
   "source": [
    "df.values"
   ]
  },
  {
   "cell_type": "code",
   "execution_count": null,
   "metadata": {},
   "outputs": [],
   "source": []
  }
 ],
 "metadata": {
  "kernelspec": {
   "display_name": "Python 3.9.16 ('DGT')",
   "language": "python",
   "name": "python3"
  },
  "language_info": {
   "codemirror_mode": {
    "name": "ipython",
    "version": 3
   },
   "file_extension": ".py",
   "mimetype": "text/x-python",
   "name": "python",
   "nbconvert_exporter": "python",
   "pygments_lexer": "ipython3",
   "version": "3.9.18"
  },
  "orig_nbformat": 4,
  "vscode": {
   "interpreter": {
    "hash": "284535aa50a4cc610a05fac80824109f7ffd48a399ffd0d99b38b2929a297853"
   }
  }
 },
 "nbformat": 4,
 "nbformat_minor": 2
}
