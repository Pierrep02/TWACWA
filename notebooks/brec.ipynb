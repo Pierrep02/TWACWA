{
 "cells": [
  {
   "cell_type": "code",
   "execution_count": null,
   "metadata": {},
   "outputs": [],
   "source": []
  },
  {
   "cell_type": "markdown",
   "metadata": {},
   "source": [
    "# BREC Datasets manipulations"
   ]
  },
  {
   "cell_type": "code",
   "execution_count": 3,
   "metadata": {},
   "outputs": [],
   "source": [
    "from os.path import join \n",
    "import torch\n",
    "import numpy as np"
   ]
  },
  {
   "cell_type": "code",
   "execution_count": 10,
   "metadata": {},
   "outputs": [],
   "source": [
    "dir = '/share/DEEPLEARNING/datasets/graph_datasets/Towards_better/TG_network_datasets'\n",
    "data = 'BREC'\n",
    "file = 'brec_v3.npy'\n",
    "dataset = join(dir, data)"
   ]
  },
  {
   "cell_type": "code",
   "execution_count": 11,
   "metadata": {},
   "outputs": [
    {
     "name": "stdout",
     "output_type": "stream",
     "text": [
      "/share/DEEPLEARNING/datasets/graph_datasets/Towards_better/TG_network_datasets/BREC\n"
     ]
    }
   ],
   "source": [
    "! echo $dataset"
   ]
  },
  {
   "cell_type": "code",
   "execution_count": 15,
   "metadata": {},
   "outputs": [],
   "source": [
    "brec = np.load(join(dataset, file))"
   ]
  },
  {
   "cell_type": "code",
   "execution_count": 16,
   "metadata": {},
   "outputs": [
    {
     "data": {
      "text/plain": [
       "array([b'ICZJvZsNg', b'ICrbut{{W', b'IvRNRCzlO', ...,\n",
       "       b'_C?j_HxUBON?`FEOjGCKXMOe?wJaCKLIE?LaOOdPa?hKGOC`LGF@eWeHGAk@O?JE`cI`MAhgSSLq?X?CiOx_',\n",
       "       b'_OGaX`LQOWATKgq@eBHcqp@IDEP@q]IH_AWDrOCE?CdADGJb?gHCMBEpG_SeQL@APOgh?qoHI`cOOpocaWdO',\n",
       "       b'_????A~\\\\beXw?Bh?qwVwC?DO?Oo?RFM?\\\\]AIq_@_@Qb_BmA}OA`IobBYGP`DsC[??NOCK\\\\?MKJYCK?O@b@fC'],\n",
       "      dtype='|S3255')"
      ]
     },
     "execution_count": 16,
     "metadata": {},
     "output_type": "execute_result"
    }
   ],
   "source": [
    "brec"
   ]
  },
  {
   "cell_type": "code",
   "execution_count": 17,
   "metadata": {},
   "outputs": [
    {
     "data": {
      "text/plain": [
       "51200"
      ]
     },
     "execution_count": 17,
     "metadata": {},
     "output_type": "execute_result"
    }
   ],
   "source": [
    "len(brec)"
   ]
  },
  {
   "cell_type": "code",
   "execution_count": null,
   "metadata": {},
   "outputs": [],
   "source": []
  }
 ],
 "metadata": {
  "kernelspec": {
   "display_name": "DGT",
   "language": "python",
   "name": "python3"
  },
  "language_info": {
   "codemirror_mode": {
    "name": "ipython",
    "version": 3
   },
   "file_extension": ".py",
   "mimetype": "text/x-python",
   "name": "python",
   "nbconvert_exporter": "python",
   "pygments_lexer": "ipython3",
   "version": "3.9.16"
  }
 },
 "nbformat": 4,
 "nbformat_minor": 2
}
