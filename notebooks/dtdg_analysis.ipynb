{
 "cells": [
  {
   "cell_type": "markdown",
   "metadata": {},
   "source": [
    "# DTDG Analysis"
   ]
  },
  {
   "cell_type": "code",
   "execution_count": 1,
   "metadata": {},
   "outputs": [
    {
     "name": "stderr",
     "output_type": "stream",
     "text": [
      "/users/k/karmimy/anaconda3/envs/DGT/lib/python3.9/site-packages/pandas/core/arrays/masked.py:60: UserWarning: Pandas requires version '1.3.6' or newer of 'bottleneck' (version '1.3.5' currently installed).\n",
      "  from pandas.core import (\n"
     ]
    }
   ],
   "source": [
    "from dgt.datasets import LinkPredData\n",
    "import torch "
   ]
  },
  {
   "cell_type": "code",
   "execution_count": 20,
   "metadata": {},
   "outputs": [],
   "source": [
    "dataname = 'CanParl'\n",
    "datadir = '/share/DEEPLEARNING/datasets/graph_datasets/Towards_better/TG_network_datasets'\n",
    "num_nodes = 734\n",
    "num_edges = 74478\n",
    "timestamp = 14\n",
    "features_dim = num_nodes\n",
    "\n",
    "dts = LinkPredData(datadir=datadir, dataname=dataname, dgb=True, evolving=False, score='none', n_nodes=num_nodes, one_hot=True, sampling='random', train_ratio=0.8, split='temporal', pred_next=False)"
   ]
  },
  {
   "cell_type": "code",
   "execution_count": 15,
   "metadata": {},
   "outputs": [],
   "source": [
    "dataname = 'USLegis'\n",
    "datadir = '/share/DEEPLEARNING/datasets/graph_datasets/Towards_better/TG_network_datasets'\n",
    "num_nodes = 225\n",
    "num_edges = 60396\n",
    "timestamp = 12\n",
    "features_dim = num_nodes\n",
    "num_classes = 2"
   ]
  },
  {
   "cell_type": "code",
   "execution_count": 25,
   "metadata": {},
   "outputs": [],
   "source": [
    "dataname = 'Flights'\n",
    "datadir = '/share/DEEPLEARNING/datasets/graph_datasets/Towards_better/TG_network_datasets'\n",
    "num_nodes = 13169\n",
    "num_edges = 1927145\n",
    "timestamp = 122\n",
    "features_dim = num_nodes"
   ]
  },
  {
   "cell_type": "code",
   "execution_count": 31,
   "metadata": {},
   "outputs": [],
   "source": [
    "dataname = 'UNtrade'\n",
    "datadir = '/share/DEEPLEARNING/datasets/graph_datasets/Towards_better/TG_network_datasets'\n",
    "num_nodes = 255\n",
    "num_edges = 507497\n",
    "timestamp = 32\n",
    "features_dim = num_nodes"
   ]
  },
  {
   "cell_type": "code",
   "execution_count": 37,
   "metadata": {},
   "outputs": [],
   "source": [
    "dataname = 'UNvote'\n",
    "datadir = '/share/DEEPLEARNING/datasets/graph_datasets/Towards_better/TG_network_datasets'\n",
    "num_nodes = 201\n",
    "num_edges = 1035742\n",
    "timestamp = 72\n",
    "features_dim = num_nodes\n",
    "num_classes = 2"
   ]
  },
  {
   "cell_type": "code",
   "execution_count": 43,
   "metadata": {},
   "outputs": [],
   "source": [
    "dataname = 'Contacts'\n",
    "datadir = '/share/DEEPLEARNING/datasets/graph_datasets/Towards_better/TG_network_datasets'\n",
    "num_nodes = 694\n",
    "num_edges = 2426280\n",
    "timestamp = 8065\n",
    "features_dim = num_nodes\n",
    "num_classes = 2"
   ]
  },
  {
   "cell_type": "code",
   "execution_count": 81,
   "metadata": {},
   "outputs": [],
   "source": [
    "dataname = 'HepPh'\n",
    "datadir = '/share/DEEPLEARNING/datasets/graph_datasets/Towards_better/TG_network_datasets'\n",
    "num_nodes = 15330\n",
    "num_edges = 1631581\n",
    "timestamp = 36\n",
    "features_dim = num_nodes\n",
    "k_test = 6"
   ]
  },
  {
   "cell_type": "code",
   "execution_count": 57,
   "metadata": {},
   "outputs": [],
   "source": [
    "dataname = 'AS733'\n",
    "datadir = '/share/DEEPLEARNING/datasets/graph_datasets/Towards_better/TG_network_datasets'\n",
    "num_nodes = 6628\n",
    "num_edges = 163807\n",
    "timestamp = 30\n",
    "features_dim = num_nodes\n",
    "k_test = 10"
   ]
  },
  {
   "cell_type": "code",
   "execution_count": 63,
   "metadata": {},
   "outputs": [],
   "source": [
    "dataname = 'Enron'\n",
    "datadir = '/share/DEEPLEARNING/datasets/graph_datasets/Towards_better/TG_network_datasets'\n",
    "num_nodes = 184\n",
    "timestamp = 11\n",
    "features_dim = num_nodes\n",
    "k_test = 3"
   ]
  },
  {
   "cell_type": "code",
   "execution_count": 69,
   "metadata": {},
   "outputs": [],
   "source": [
    "dataname = 'Colab'\n",
    "datadir = '/share/DEEPLEARNING/datasets/graph_datasets/Towards_better/TG_network_datasets'\n",
    "num_nodes = 315\n",
    "timestamp = 10\n",
    "features_dim = num_nodes\n",
    "k_test = 3"
   ]
  },
  {
   "cell_type": "code",
   "execution_count": 75,
   "metadata": {},
   "outputs": [],
   "source": [
    "dataname = 'SBM'\n",
    "datadir = '/share/DEEPLEARNING/datasets/graph_datasets/Towards_better/TG_network_datasets'\n",
    "num_nodes = 1000\n",
    "timestamp = 50\n",
    "features_dim = num_nodes\n",
    "k_test = 10"
   ]
  },
  {
   "cell_type": "code",
   "execution_count": 82,
   "metadata": {},
   "outputs": [],
   "source": [
    "dts = LinkPredData(datadir=datadir, dataname=dataname, dgb=True, evolving=False, score='none', n_nodes=num_nodes, one_hot=True, sampling='random',k_val=0,k_test=k_test, split='lastk', pred_next=False)"
   ]
  },
  {
   "cell_type": "code",
   "execution_count": 83,
   "metadata": {},
   "outputs": [],
   "source": [
    "train,val,test = dts.get_datasets(seed=0)"
   ]
  },
  {
   "cell_type": "code",
   "execution_count": 84,
   "metadata": {},
   "outputs": [],
   "source": [
    "t_train = train.t_max"
   ]
  },
  {
   "cell_type": "code",
   "execution_count": 85,
   "metadata": {},
   "outputs": [],
   "source": [
    "connect = []\n",
    "for t in range(t_train):\n",
    "    curr = train.get_dataset_t(t)\n",
    "    g = curr.get_graphs()\n",
    "    connect.append(len(torch.unique(g[t].edge_index)) / num_nodes)\n",
    "\n",
    "avg_connect = sum(connect) / len(connect)"
   ]
  },
  {
   "cell_type": "code",
   "execution_count": 86,
   "metadata": {},
   "outputs": [
    {
     "name": "stdout",
     "output_type": "stream",
     "text": [
      "Average isolated nodes :  0.8423070232659273\n"
     ]
    }
   ],
   "source": [
    "print('Average isolated nodes : ', 1 - avg_connect)"
   ]
  },
  {
   "cell_type": "code",
   "execution_count": null,
   "metadata": {},
   "outputs": [],
   "source": []
  }
 ],
 "metadata": {
  "kernelspec": {
   "display_name": "DGT",
   "language": "python",
   "name": "python3"
  },
  "language_info": {
   "codemirror_mode": {
    "name": "ipython",
    "version": 3
   },
   "file_extension": ".py",
   "mimetype": "text/x-python",
   "name": "python",
   "nbconvert_exporter": "python",
   "pygments_lexer": "ipython3",
   "version": "3.9.16"
  }
 },
 "nbformat": 4,
 "nbformat_minor": 2
}
