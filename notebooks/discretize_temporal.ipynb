{
 "cells": [
  {
   "cell_type": "code",
   "execution_count": 1,
   "metadata": {},
   "outputs": [
    {
     "name": "stderr",
     "output_type": "stream",
     "text": [
      "/users/k/karmimy/anaconda3/envs/DGT/lib/python3.9/site-packages/pandas/core/arrays/masked.py:60: UserWarning: Pandas requires version '1.3.6' or newer of 'bottleneck' (version '1.3.5' currently installed).\n",
      "  from pandas.core import (\n"
     ]
    }
   ],
   "source": [
    "from os.path import join\n",
    "\n",
    "import numpy as np \n",
    "import pandas as pd\n"
   ]
  },
  {
   "cell_type": "markdown",
   "metadata": {},
   "source": [
    "## UCI-Message\n"
   ]
  },
  {
   "cell_type": "code",
   "execution_count": 2,
   "metadata": {},
   "outputs": [],
   "source": [
    "path_dst = '/share/DEEPLEARNING/datasets/graph_datasets/Towards_better/TG_network_datasets'\n",
    "datadir = 'UCI-Message'\n",
    "path_dst = join(path_dst, datadir)\n",
    "file_save = join(path_dst,'ml_UCI-Message.csv')"
   ]
  },
  {
   "cell_type": "code",
   "execution_count": 3,
   "metadata": {},
   "outputs": [],
   "source": [
    "path_src = '/share/DEEPLEARNING/datasets/graph_datasets/Rol'\n",
    "file_src = 'CollegeMsg.txt'\n",
    "path_src = join(path_src, file_src)"
   ]
  },
  {
   "cell_type": "code",
   "execution_count": 4,
   "metadata": {},
   "outputs": [],
   "source": [
    "df = pd.read_csv(path_src,sep=' ',header=None)"
   ]
  },
  {
   "cell_type": "code",
   "execution_count": 5,
   "metadata": {},
   "outputs": [
    {
     "data": {
      "text/html": [
       "<div>\n",
       "<style scoped>\n",
       "    .dataframe tbody tr th:only-of-type {\n",
       "        vertical-align: middle;\n",
       "    }\n",
       "\n",
       "    .dataframe tbody tr th {\n",
       "        vertical-align: top;\n",
       "    }\n",
       "\n",
       "    .dataframe thead th {\n",
       "        text-align: right;\n",
       "    }\n",
       "</style>\n",
       "<table border=\"1\" class=\"dataframe\">\n",
       "  <thead>\n",
       "    <tr style=\"text-align: right;\">\n",
       "      <th></th>\n",
       "      <th>0</th>\n",
       "      <th>1</th>\n",
       "      <th>2</th>\n",
       "    </tr>\n",
       "  </thead>\n",
       "  <tbody>\n",
       "    <tr>\n",
       "      <th>0</th>\n",
       "      <td>1</td>\n",
       "      <td>2</td>\n",
       "      <td>1082040961</td>\n",
       "    </tr>\n",
       "    <tr>\n",
       "      <th>1</th>\n",
       "      <td>3</td>\n",
       "      <td>4</td>\n",
       "      <td>1082155839</td>\n",
       "    </tr>\n",
       "    <tr>\n",
       "      <th>2</th>\n",
       "      <td>5</td>\n",
       "      <td>2</td>\n",
       "      <td>1082414391</td>\n",
       "    </tr>\n",
       "    <tr>\n",
       "      <th>3</th>\n",
       "      <td>6</td>\n",
       "      <td>7</td>\n",
       "      <td>1082439619</td>\n",
       "    </tr>\n",
       "    <tr>\n",
       "      <th>4</th>\n",
       "      <td>8</td>\n",
       "      <td>7</td>\n",
       "      <td>1082439756</td>\n",
       "    </tr>\n",
       "    <tr>\n",
       "      <th>...</th>\n",
       "      <td>...</td>\n",
       "      <td>...</td>\n",
       "      <td>...</td>\n",
       "    </tr>\n",
       "    <tr>\n",
       "      <th>59830</th>\n",
       "      <td>1899</td>\n",
       "      <td>1847</td>\n",
       "      <td>1098776648</td>\n",
       "    </tr>\n",
       "    <tr>\n",
       "      <th>59831</th>\n",
       "      <td>1899</td>\n",
       "      <td>1097</td>\n",
       "      <td>1098776836</td>\n",
       "    </tr>\n",
       "    <tr>\n",
       "      <th>59832</th>\n",
       "      <td>1899</td>\n",
       "      <td>277</td>\n",
       "      <td>1098777003</td>\n",
       "    </tr>\n",
       "    <tr>\n",
       "      <th>59833</th>\n",
       "      <td>1878</td>\n",
       "      <td>1624</td>\n",
       "      <td>1098777111</td>\n",
       "    </tr>\n",
       "    <tr>\n",
       "      <th>59834</th>\n",
       "      <td>1878</td>\n",
       "      <td>1624</td>\n",
       "      <td>1098777142</td>\n",
       "    </tr>\n",
       "  </tbody>\n",
       "</table>\n",
       "<p>59835 rows × 3 columns</p>\n",
       "</div>"
      ],
      "text/plain": [
       "          0     1           2\n",
       "0         1     2  1082040961\n",
       "1         3     4  1082155839\n",
       "2         5     2  1082414391\n",
       "3         6     7  1082439619\n",
       "4         8     7  1082439756\n",
       "...     ...   ...         ...\n",
       "59830  1899  1847  1098776648\n",
       "59831  1899  1097  1098776836\n",
       "59832  1899   277  1098777003\n",
       "59833  1878  1624  1098777111\n",
       "59834  1878  1624  1098777142\n",
       "\n",
       "[59835 rows x 3 columns]"
      ]
     },
     "execution_count": 5,
     "metadata": {},
     "output_type": "execute_result"
    }
   ],
   "source": [
    "df"
   ]
  },
  {
   "cell_type": "code",
   "execution_count": 6,
   "metadata": {},
   "outputs": [],
   "source": [
    "arr = df.values"
   ]
  },
  {
   "cell_type": "code",
   "execution_count": 7,
   "metadata": {},
   "outputs": [],
   "source": [
    "ts = arr[:,2]"
   ]
  },
  {
   "cell_type": "code",
   "execution_count": 8,
   "metadata": {},
   "outputs": [
    {
     "data": {
      "text/plain": [
       "1082040961"
      ]
     },
     "execution_count": 8,
     "metadata": {},
     "output_type": "execute_result"
    }
   ],
   "source": [
    "ts.min()"
   ]
  },
  {
   "cell_type": "code",
   "execution_count": 9,
   "metadata": {},
   "outputs": [
    {
     "data": {
      "text/plain": [
       "1098777142"
      ]
     },
     "execution_count": 9,
     "metadata": {},
     "output_type": "execute_result"
    }
   ],
   "source": [
    "ts.max()"
   ]
  },
  {
   "cell_type": "code",
   "execution_count": 10,
   "metadata": {},
   "outputs": [
    {
     "data": {
      "text/plain": [
       "16736181"
      ]
     },
     "execution_count": 10,
     "metadata": {},
     "output_type": "execute_result"
    }
   ],
   "source": [
    "ts.max() - ts.min()"
   ]
  },
  {
   "cell_type": "code",
   "execution_count": 32,
   "metadata": {},
   "outputs": [
    {
     "data": {
      "text/plain": [
       "192369"
      ]
     },
     "execution_count": 32,
     "metadata": {},
     "output_type": "execute_result"
    }
   ],
   "source": []
  },
  {
   "cell_type": "code",
   "execution_count": 34,
   "metadata": {},
   "outputs": [],
   "source": [
    "delta = (ts.max() - ts.min()) // 87"
   ]
  },
  {
   "cell_type": "code",
   "execution_count": 35,
   "metadata": {},
   "outputs": [],
   "source": [
    "interval = []\n",
    "st = min(ts) + delta\n",
    "while st < max(ts):\n",
    "    interval.append(st)\n",
    "    st += delta"
   ]
  },
  {
   "cell_type": "code",
   "execution_count": 36,
   "metadata": {},
   "outputs": [
    {
     "data": {
      "text/plain": [
       "87"
      ]
     },
     "execution_count": 36,
     "metadata": {},
     "output_type": "execute_result"
    }
   ],
   "source": [
    "len(interval)"
   ]
  },
  {
   "cell_type": "code",
   "execution_count": 37,
   "metadata": {},
   "outputs": [],
   "source": [
    "start = min(ts)\n",
    "dict_inter = {}\n",
    "discretized_ts = []\n",
    "\n",
    "for l in arr:\n",
    "    t = l[2]\n",
    "    for i,inter in enumerate(interval):\n",
    "        if t < inter:\n",
    "            discretized_ts.append([l[0],l[1],i])\n",
    "            if i in dict_inter.keys():\n",
    "                dict_inter[i] += 1\n",
    "            else:\n",
    "                dict_inter[i] = 1\n",
    "            break\n",
    "    else:\n",
    "        discretized_ts.append([l[0],l[1],len(interval)])\n",
    "        if i in dict_inter.keys():\n",
    "            dict_inter[i] += 1\n",
    "        else:\n",
    "            dict_inter[i] = 1\n",
    "    "
   ]
  },
  {
   "cell_type": "code",
   "execution_count": 38,
   "metadata": {},
   "outputs": [],
   "source": [
    "new_arr = np.array(discretized_ts)"
   ]
  },
  {
   "cell_type": "code",
   "execution_count": 39,
   "metadata": {},
   "outputs": [],
   "source": [
    "\n",
    "weight = np.zeros(len(new_arr),dtype=int)\n"
   ]
  },
  {
   "cell_type": "code",
   "execution_count": 40,
   "metadata": {},
   "outputs": [
    {
     "data": {
      "text/plain": [
       "array([0, 0, 0, ..., 0, 0, 0])"
      ]
     },
     "execution_count": 40,
     "metadata": {},
     "output_type": "execute_result"
    }
   ],
   "source": [
    "weight"
   ]
  },
  {
   "cell_type": "code",
   "execution_count": 41,
   "metadata": {},
   "outputs": [],
   "source": [
    "new_arr = np.column_stack((new_arr, weight))"
   ]
  },
  {
   "cell_type": "code",
   "execution_count": 42,
   "metadata": {},
   "outputs": [
    {
     "data": {
      "text/plain": [
       "array([[   1,    2,    0,    0],\n",
       "       [   3,    4,    0,    0],\n",
       "       [   5,    2,    1,    0],\n",
       "       ...,\n",
       "       [1899,  277,   86,    0],\n",
       "       [1878, 1624,   87,    0],\n",
       "       [1878, 1624,   87,    0]])"
      ]
     },
     "execution_count": 42,
     "metadata": {},
     "output_type": "execute_result"
    }
   ],
   "source": [
    "new_arr"
   ]
  },
  {
   "cell_type": "code",
   "execution_count": 43,
   "metadata": {},
   "outputs": [
    {
     "data": {
      "text/plain": [
       "1899"
      ]
     },
     "execution_count": 43,
     "metadata": {},
     "output_type": "execute_result"
    }
   ],
   "source": [
    "len(np.unique(new_arr[:,:2]))"
   ]
  },
  {
   "cell_type": "code",
   "execution_count": 44,
   "metadata": {},
   "outputs": [
    {
     "data": {
      "text/plain": [
       "59835"
      ]
     },
     "execution_count": 44,
     "metadata": {},
     "output_type": "execute_result"
    }
   ],
   "source": [
    "len(new_arr)"
   ]
  },
  {
   "cell_type": "code",
   "execution_count": 45,
   "metadata": {},
   "outputs": [],
   "source": [
    "new_df = pd.DataFrame(new_arr, columns=['u', 'i', 'ts','label'])"
   ]
  },
  {
   "cell_type": "code",
   "execution_count": 46,
   "metadata": {},
   "outputs": [
    {
     "data": {
      "text/plain": [
       "array([ 0,  0,  1, ..., 86, 87, 87])"
      ]
     },
     "execution_count": 46,
     "metadata": {},
     "output_type": "execute_result"
    }
   ],
   "source": [
    "new_df.ts.to_numpy()"
   ]
  },
  {
   "cell_type": "code",
   "execution_count": 47,
   "metadata": {},
   "outputs": [
    {
     "data": {
      "text/plain": [
       "88"
      ]
     },
     "execution_count": 47,
     "metadata": {},
     "output_type": "execute_result"
    }
   ],
   "source": [
    "len(np.unique(new_df.ts.to_numpy()))"
   ]
  },
  {
   "cell_type": "code",
   "execution_count": 48,
   "metadata": {},
   "outputs": [],
   "source": [
    "new_df.to_csv(file_save, index=False) "
   ]
  },
  {
   "cell_type": "markdown",
   "metadata": {},
   "source": [
    "## Bitcoin Alpha "
   ]
  },
  {
   "cell_type": "code",
   "execution_count": 21,
   "metadata": {},
   "outputs": [],
   "source": [
    "path_dst = '/share/DEEPLEARNING/datasets/graph_datasets/Towards_better/TG_network_datasets'\n",
    "datadir = 'Bitcoin-Alpha'\n",
    "path_dst = join(path_dst, datadir)\n",
    "file_save = join(path_dst,'ml_Bitcoin-Alpha.csv')"
   ]
  },
  {
   "cell_type": "code",
   "execution_count": 22,
   "metadata": {},
   "outputs": [],
   "source": [
    "path_src = '/share/DEEPLEARNING/datasets/graph_datasets/Rol'\n",
    "file_src = 'bitcoinalpha.csv'\n",
    "path_src = join(path_src, file_src)"
   ]
  },
  {
   "cell_type": "code",
   "execution_count": 23,
   "metadata": {},
   "outputs": [],
   "source": [
    "df = pd.read_csv(path_src,sep=',',header=None)"
   ]
  },
  {
   "cell_type": "code",
   "execution_count": 24,
   "metadata": {},
   "outputs": [
    {
     "data": {
      "text/html": [
       "<div>\n",
       "<style scoped>\n",
       "    .dataframe tbody tr th:only-of-type {\n",
       "        vertical-align: middle;\n",
       "    }\n",
       "\n",
       "    .dataframe tbody tr th {\n",
       "        vertical-align: top;\n",
       "    }\n",
       "\n",
       "    .dataframe thead th {\n",
       "        text-align: right;\n",
       "    }\n",
       "</style>\n",
       "<table border=\"1\" class=\"dataframe\">\n",
       "  <thead>\n",
       "    <tr style=\"text-align: right;\">\n",
       "      <th></th>\n",
       "      <th>0</th>\n",
       "      <th>1</th>\n",
       "      <th>2</th>\n",
       "      <th>3</th>\n",
       "    </tr>\n",
       "  </thead>\n",
       "  <tbody>\n",
       "    <tr>\n",
       "      <th>0</th>\n",
       "      <td>7188</td>\n",
       "      <td>1</td>\n",
       "      <td>10</td>\n",
       "      <td>1407470400</td>\n",
       "    </tr>\n",
       "    <tr>\n",
       "      <th>1</th>\n",
       "      <td>430</td>\n",
       "      <td>1</td>\n",
       "      <td>10</td>\n",
       "      <td>1376539200</td>\n",
       "    </tr>\n",
       "    <tr>\n",
       "      <th>2</th>\n",
       "      <td>3134</td>\n",
       "      <td>1</td>\n",
       "      <td>10</td>\n",
       "      <td>1369713600</td>\n",
       "    </tr>\n",
       "    <tr>\n",
       "      <th>3</th>\n",
       "      <td>3026</td>\n",
       "      <td>1</td>\n",
       "      <td>10</td>\n",
       "      <td>1350014400</td>\n",
       "    </tr>\n",
       "    <tr>\n",
       "      <th>4</th>\n",
       "      <td>3010</td>\n",
       "      <td>1</td>\n",
       "      <td>10</td>\n",
       "      <td>1347854400</td>\n",
       "    </tr>\n",
       "    <tr>\n",
       "      <th>...</th>\n",
       "      <td>...</td>\n",
       "      <td>...</td>\n",
       "      <td>...</td>\n",
       "      <td>...</td>\n",
       "    </tr>\n",
       "    <tr>\n",
       "      <th>24181</th>\n",
       "      <td>7604</td>\n",
       "      <td>7601</td>\n",
       "      <td>10</td>\n",
       "      <td>1364270400</td>\n",
       "    </tr>\n",
       "    <tr>\n",
       "      <th>24182</th>\n",
       "      <td>7601</td>\n",
       "      <td>7604</td>\n",
       "      <td>10</td>\n",
       "      <td>1364270400</td>\n",
       "    </tr>\n",
       "    <tr>\n",
       "      <th>24183</th>\n",
       "      <td>7604</td>\n",
       "      <td>7602</td>\n",
       "      <td>10</td>\n",
       "      <td>1364270400</td>\n",
       "    </tr>\n",
       "    <tr>\n",
       "      <th>24184</th>\n",
       "      <td>7602</td>\n",
       "      <td>7604</td>\n",
       "      <td>10</td>\n",
       "      <td>1364270400</td>\n",
       "    </tr>\n",
       "    <tr>\n",
       "      <th>24185</th>\n",
       "      <td>7604</td>\n",
       "      <td>7603</td>\n",
       "      <td>-10</td>\n",
       "      <td>1364270400</td>\n",
       "    </tr>\n",
       "  </tbody>\n",
       "</table>\n",
       "<p>24186 rows × 4 columns</p>\n",
       "</div>"
      ],
      "text/plain": [
       "          0     1   2           3\n",
       "0      7188     1  10  1407470400\n",
       "1       430     1  10  1376539200\n",
       "2      3134     1  10  1369713600\n",
       "3      3026     1  10  1350014400\n",
       "4      3010     1  10  1347854400\n",
       "...     ...   ...  ..         ...\n",
       "24181  7604  7601  10  1364270400\n",
       "24182  7601  7604  10  1364270400\n",
       "24183  7604  7602  10  1364270400\n",
       "24184  7602  7604  10  1364270400\n",
       "24185  7604  7603 -10  1364270400\n",
       "\n",
       "[24186 rows x 4 columns]"
      ]
     },
     "execution_count": 24,
     "metadata": {},
     "output_type": "execute_result"
    }
   ],
   "source": [
    "df"
   ]
  },
  {
   "cell_type": "code",
   "execution_count": 25,
   "metadata": {},
   "outputs": [
    {
     "data": {
      "text/plain": [
       "24186"
      ]
     },
     "execution_count": 25,
     "metadata": {},
     "output_type": "execute_result"
    }
   ],
   "source": [
    "len(df)"
   ]
  },
  {
   "cell_type": "code",
   "execution_count": 26,
   "metadata": {},
   "outputs": [
    {
     "data": {
      "text/plain": [
       "24186"
      ]
     },
     "execution_count": 26,
     "metadata": {},
     "output_type": "execute_result"
    }
   ],
   "source": [
    "len(df)"
   ]
  },
  {
   "cell_type": "code",
   "execution_count": 27,
   "metadata": {},
   "outputs": [],
   "source": [
    "arr = df.values"
   ]
  },
  {
   "cell_type": "code",
   "execution_count": 28,
   "metadata": {},
   "outputs": [
    {
     "data": {
      "text/plain": [
       "array([[      7188,          1,         10, 1407470400],\n",
       "       [       430,          1,         10, 1376539200],\n",
       "       [      3134,          1,         10, 1369713600],\n",
       "       ...,\n",
       "       [      7604,       7602,         10, 1364270400],\n",
       "       [      7602,       7604,         10, 1364270400],\n",
       "       [      7604,       7603,        -10, 1364270400]])"
      ]
     },
     "execution_count": 28,
     "metadata": {},
     "output_type": "execute_result"
    }
   ],
   "source": [
    "arr"
   ]
  },
  {
   "cell_type": "code",
   "execution_count": 29,
   "metadata": {},
   "outputs": [],
   "source": [
    "ts = arr[:,3]"
   ]
  },
  {
   "cell_type": "code",
   "execution_count": 30,
   "metadata": {},
   "outputs": [
    {
     "data": {
      "text/plain": [
       "array([1407470400, 1376539200, 1369713600, ..., 1364270400, 1364270400,\n",
       "       1364270400])"
      ]
     },
     "execution_count": 30,
     "metadata": {},
     "output_type": "execute_result"
    }
   ],
   "source": [
    "ts"
   ]
  },
  {
   "cell_type": "code",
   "execution_count": 31,
   "metadata": {},
   "outputs": [
    {
     "data": {
      "text/plain": [
       "1289192400"
      ]
     },
     "execution_count": 31,
     "metadata": {},
     "output_type": "execute_result"
    }
   ],
   "source": [
    "min(ts)"
   ]
  },
  {
   "cell_type": "code",
   "execution_count": 32,
   "metadata": {},
   "outputs": [],
   "source": [
    "b = max(ts)"
   ]
  },
  {
   "cell_type": "code",
   "execution_count": 33,
   "metadata": {},
   "outputs": [],
   "source": [
    "deb = 1289088000\n",
    "fin = 1453334400"
   ]
  },
  {
   "cell_type": "code",
   "execution_count": 37,
   "metadata": {},
   "outputs": [],
   "source": [
    "interval = []\n",
    "st = deb + 2*week\n",
    "while st < fin:\n",
    "    interval.append(st)\n",
    "    st += 2*week"
   ]
  },
  {
   "cell_type": "code",
   "execution_count": 38,
   "metadata": {},
   "outputs": [
    {
     "data": {
      "text/plain": [
       "135"
      ]
     },
     "execution_count": 38,
     "metadata": {},
     "output_type": "execute_result"
    }
   ],
   "source": [
    "len(interval)"
   ]
  },
  {
   "cell_type": "code",
   "execution_count": 39,
   "metadata": {},
   "outputs": [
    {
     "data": {
      "text/plain": [
       "135"
      ]
     },
     "execution_count": 39,
     "metadata": {},
     "output_type": "execute_result"
    }
   ],
   "source": [
    "len(interval)"
   ]
  },
  {
   "cell_type": "code",
   "execution_count": 40,
   "metadata": {},
   "outputs": [
    {
     "data": {
      "text/plain": [
       "array([[      7188,          1,         10, 1407470400],\n",
       "       [       430,          1,         10, 1376539200],\n",
       "       [      3134,          1,         10, 1369713600],\n",
       "       ...,\n",
       "       [      7604,       7602,         10, 1364270400],\n",
       "       [      7602,       7604,         10, 1364270400],\n",
       "       [      7604,       7603,        -10, 1364270400]])"
      ]
     },
     "execution_count": 40,
     "metadata": {},
     "output_type": "execute_result"
    }
   ],
   "source": [
    "arr"
   ]
  },
  {
   "cell_type": "code",
   "execution_count": 41,
   "metadata": {},
   "outputs": [],
   "source": [
    "start = deb # 7 novembre 2010 \n",
    "# fin # 21 Janvier 2016\n",
    "dict_inter = {}\n",
    "discretized_ts = []\n",
    "\n",
    "for l in arr:\n",
    "    t = l[3]\n",
    "    for i,inter in enumerate(interval):\n",
    "        if t < inter:\n",
    "            discretized_ts.append([l[0],l[1],l[2],i])\n",
    "            if i in dict_inter.keys():\n",
    "                dict_inter[i] += 1\n",
    "            else:\n",
    "                dict_inter[i] = 1\n",
    "            break\n",
    "    else:\n",
    "        discretized_ts.append([l[0],l[1],l[2],len(interval)])\n",
    "        if i in dict_inter.keys():\n",
    "            dict_inter[i] += 1\n",
    "        else:\n",
    "            dict_inter[i] = 1"
   ]
  },
  {
   "cell_type": "code",
   "execution_count": 42,
   "metadata": {},
   "outputs": [],
   "source": [
    "discretized_ts = np.array(discretized_ts)"
   ]
  },
  {
   "cell_type": "code",
   "execution_count": 43,
   "metadata": {},
   "outputs": [
    {
     "data": {
      "text/plain": [
       "array([[7188,    1,   10,   97],\n",
       "       [ 430,    1,   10,   72],\n",
       "       [3134,    1,   10,   66],\n",
       "       ...,\n",
       "       [7604, 7602,   10,   62],\n",
       "       [7602, 7604,   10,   62],\n",
       "       [7604, 7603,  -10,   62]])"
      ]
     },
     "execution_count": 43,
     "metadata": {},
     "output_type": "execute_result"
    }
   ],
   "source": [
    "discretized_ts"
   ]
  },
  {
   "cell_type": "code",
   "execution_count": 44,
   "metadata": {},
   "outputs": [
    {
     "data": {
      "text/plain": [
       "3783"
      ]
     },
     "execution_count": 44,
     "metadata": {},
     "output_type": "execute_result"
    }
   ],
   "source": [
    "len(np.unique(discretized_ts[:,:2]))"
   ]
  },
  {
   "cell_type": "code",
   "execution_count": 45,
   "metadata": {},
   "outputs": [],
   "source": [
    "new_df = pd.DataFrame(discretized_ts, columns=['u', 'i', 'label','ts'])"
   ]
  },
  {
   "cell_type": "code",
   "execution_count": 46,
   "metadata": {},
   "outputs": [
    {
     "data": {
      "text/html": [
       "<div>\n",
       "<style scoped>\n",
       "    .dataframe tbody tr th:only-of-type {\n",
       "        vertical-align: middle;\n",
       "    }\n",
       "\n",
       "    .dataframe tbody tr th {\n",
       "        vertical-align: top;\n",
       "    }\n",
       "\n",
       "    .dataframe thead th {\n",
       "        text-align: right;\n",
       "    }\n",
       "</style>\n",
       "<table border=\"1\" class=\"dataframe\">\n",
       "  <thead>\n",
       "    <tr style=\"text-align: right;\">\n",
       "      <th></th>\n",
       "      <th>u</th>\n",
       "      <th>i</th>\n",
       "      <th>label</th>\n",
       "      <th>ts</th>\n",
       "    </tr>\n",
       "  </thead>\n",
       "  <tbody>\n",
       "    <tr>\n",
       "      <th>0</th>\n",
       "      <td>7188</td>\n",
       "      <td>1</td>\n",
       "      <td>10</td>\n",
       "      <td>97</td>\n",
       "    </tr>\n",
       "    <tr>\n",
       "      <th>1</th>\n",
       "      <td>430</td>\n",
       "      <td>1</td>\n",
       "      <td>10</td>\n",
       "      <td>72</td>\n",
       "    </tr>\n",
       "    <tr>\n",
       "      <th>2</th>\n",
       "      <td>3134</td>\n",
       "      <td>1</td>\n",
       "      <td>10</td>\n",
       "      <td>66</td>\n",
       "    </tr>\n",
       "    <tr>\n",
       "      <th>3</th>\n",
       "      <td>3026</td>\n",
       "      <td>1</td>\n",
       "      <td>10</td>\n",
       "      <td>50</td>\n",
       "    </tr>\n",
       "    <tr>\n",
       "      <th>4</th>\n",
       "      <td>3010</td>\n",
       "      <td>1</td>\n",
       "      <td>10</td>\n",
       "      <td>48</td>\n",
       "    </tr>\n",
       "    <tr>\n",
       "      <th>...</th>\n",
       "      <td>...</td>\n",
       "      <td>...</td>\n",
       "      <td>...</td>\n",
       "      <td>...</td>\n",
       "    </tr>\n",
       "    <tr>\n",
       "      <th>24181</th>\n",
       "      <td>7604</td>\n",
       "      <td>7601</td>\n",
       "      <td>10</td>\n",
       "      <td>62</td>\n",
       "    </tr>\n",
       "    <tr>\n",
       "      <th>24182</th>\n",
       "      <td>7601</td>\n",
       "      <td>7604</td>\n",
       "      <td>10</td>\n",
       "      <td>62</td>\n",
       "    </tr>\n",
       "    <tr>\n",
       "      <th>24183</th>\n",
       "      <td>7604</td>\n",
       "      <td>7602</td>\n",
       "      <td>10</td>\n",
       "      <td>62</td>\n",
       "    </tr>\n",
       "    <tr>\n",
       "      <th>24184</th>\n",
       "      <td>7602</td>\n",
       "      <td>7604</td>\n",
       "      <td>10</td>\n",
       "      <td>62</td>\n",
       "    </tr>\n",
       "    <tr>\n",
       "      <th>24185</th>\n",
       "      <td>7604</td>\n",
       "      <td>7603</td>\n",
       "      <td>-10</td>\n",
       "      <td>62</td>\n",
       "    </tr>\n",
       "  </tbody>\n",
       "</table>\n",
       "<p>24186 rows × 4 columns</p>\n",
       "</div>"
      ],
      "text/plain": [
       "          u     i  label  ts\n",
       "0      7188     1     10  97\n",
       "1       430     1     10  72\n",
       "2      3134     1     10  66\n",
       "3      3026     1     10  50\n",
       "4      3010     1     10  48\n",
       "...     ...   ...    ...  ..\n",
       "24181  7604  7601     10  62\n",
       "24182  7601  7604     10  62\n",
       "24183  7604  7602     10  62\n",
       "24184  7602  7604     10  62\n",
       "24185  7604  7603    -10  62\n",
       "\n",
       "[24186 rows x 4 columns]"
      ]
     },
     "execution_count": 46,
     "metadata": {},
     "output_type": "execute_result"
    }
   ],
   "source": [
    "new_df"
   ]
  },
  {
   "cell_type": "code",
   "execution_count": 47,
   "metadata": {},
   "outputs": [
    {
     "data": {
      "text/plain": [
       "[4,\n",
       " 4,\n",
       " 4,\n",
       " 5,\n",
       " 6,\n",
       " 6,\n",
       " 7,\n",
       " 8,\n",
       " 9,\n",
       " 11,\n",
       " 11,\n",
       " 11,\n",
       " 11,\n",
       " 12,\n",
       " 12,\n",
       " 12,\n",
       " 14,\n",
       " 14,\n",
       " 16,\n",
       " 17,\n",
       " 18,\n",
       " 18,\n",
       " 19,\n",
       " 19,\n",
       " 20,\n",
       " 21,\n",
       " 28,\n",
       " 29,\n",
       " 31,\n",
       " 32,\n",
       " 35,\n",
       " 44,\n",
       " 52,\n",
       " 61,\n",
       " 66,\n",
       " 66,\n",
       " 72,\n",
       " 72,\n",
       " 72,\n",
       " 77,\n",
       " 78,\n",
       " 78,\n",
       " 84,\n",
       " 89,\n",
       " 90,\n",
       " 90,\n",
       " 93,\n",
       " 95,\n",
       " 99,\n",
       " 99,\n",
       " 105,\n",
       " 106,\n",
       " 107,\n",
       " 107,\n",
       " 107,\n",
       " 108,\n",
       " 111,\n",
       " 111,\n",
       " 117,\n",
       " 118,\n",
       " 119,\n",
       " 123,\n",
       " 125,\n",
       " 126,\n",
       " 131,\n",
       " 139,\n",
       " 142,\n",
       " 148,\n",
       " 151,\n",
       " 152,\n",
       " 153,\n",
       " 154,\n",
       " 154,\n",
       " 155,\n",
       " 166,\n",
       " 169,\n",
       " 171,\n",
       " 173,\n",
       " 174,\n",
       " 177,\n",
       " 181,\n",
       " 193,\n",
       " 198,\n",
       " 204,\n",
       " 205,\n",
       " 206,\n",
       " 207,\n",
       " 208,\n",
       " 209,\n",
       " 215,\n",
       " 219,\n",
       " 224,\n",
       " 225,\n",
       " 227,\n",
       " 229,\n",
       " 232,\n",
       " 235,\n",
       " 246,\n",
       " 249,\n",
       " 249,\n",
       " 252,\n",
       " 254,\n",
       " 261,\n",
       " 261,\n",
       " 263,\n",
       " 264,\n",
       " 271,\n",
       " 276,\n",
       " 280,\n",
       " 286,\n",
       " 287,\n",
       " 289,\n",
       " 294,\n",
       " 299,\n",
       " 303,\n",
       " 304,\n",
       " 307,\n",
       " 309,\n",
       " 310,\n",
       " 314,\n",
       " 318,\n",
       " 320,\n",
       " 320,\n",
       " 323,\n",
       " 326,\n",
       " 328,\n",
       " 340,\n",
       " 349,\n",
       " 446,\n",
       " 456,\n",
       " 524,\n",
       " 650,\n",
       " 904,\n",
       " 1066,\n",
       " 1431]"
      ]
     },
     "execution_count": 47,
     "metadata": {},
     "output_type": "execute_result"
    }
   ],
   "source": [
    "sorted(dict_inter.values())"
   ]
  },
  {
   "cell_type": "code",
   "execution_count": 48,
   "metadata": {},
   "outputs": [],
   "source": [
    "new_df.to_csv(file_save, index=False) "
   ]
  },
  {
   "cell_type": "code",
   "execution_count": 49,
   "metadata": {},
   "outputs": [
    {
     "data": {
      "text/plain": [
       "'/share/DEEPLEARNING/datasets/graph_datasets/Towards_better/TG_network_datasets/Bitcoin-Alpha/ml_Bitcoin-Alpha.csv'"
      ]
     },
     "execution_count": 49,
     "metadata": {},
     "output_type": "execute_result"
    }
   ],
   "source": [
    "file_save"
   ]
  },
  {
   "cell_type": "code",
   "execution_count": 50,
   "metadata": {},
   "outputs": [
    {
     "data": {
      "text/plain": [
       "3783"
      ]
     },
     "execution_count": 50,
     "metadata": {},
     "output_type": "execute_result"
    }
   ],
   "source": [
    "len(np.unique(discretized_ts[:,:2]))"
   ]
  },
  {
   "cell_type": "markdown",
   "metadata": {},
   "source": [
    "## Bitcoin OTC"
   ]
  },
  {
   "cell_type": "code",
   "execution_count": 51,
   "metadata": {},
   "outputs": [],
   "source": [
    "path_dst = '/share/DEEPLEARNING/datasets/graph_datasets/Towards_better/TG_network_datasets'\n",
    "datadir = 'Bitcoin-OTC'\n",
    "path_dst = join(path_dst, datadir)\n",
    "file_save = join(path_dst,'ml_Bitcoin-OTC.csv')"
   ]
  },
  {
   "cell_type": "code",
   "execution_count": 52,
   "metadata": {},
   "outputs": [],
   "source": [
    "path_src = '/share/DEEPLEARNING/datasets/graph_datasets/Rol'\n",
    "file_src = 'bitcoinotc.csv'\n",
    "path_src = join(path_src, file_src)"
   ]
  },
  {
   "cell_type": "code",
   "execution_count": 53,
   "metadata": {},
   "outputs": [],
   "source": [
    "df = pd.read_csv(path_src,sep=',',header=None)"
   ]
  },
  {
   "cell_type": "code",
   "execution_count": 54,
   "metadata": {},
   "outputs": [
    {
     "data": {
      "text/html": [
       "<div>\n",
       "<style scoped>\n",
       "    .dataframe tbody tr th:only-of-type {\n",
       "        vertical-align: middle;\n",
       "    }\n",
       "\n",
       "    .dataframe tbody tr th {\n",
       "        vertical-align: top;\n",
       "    }\n",
       "\n",
       "    .dataframe thead th {\n",
       "        text-align: right;\n",
       "    }\n",
       "</style>\n",
       "<table border=\"1\" class=\"dataframe\">\n",
       "  <thead>\n",
       "    <tr style=\"text-align: right;\">\n",
       "      <th></th>\n",
       "      <th>0</th>\n",
       "      <th>1</th>\n",
       "      <th>2</th>\n",
       "      <th>3</th>\n",
       "    </tr>\n",
       "  </thead>\n",
       "  <tbody>\n",
       "    <tr>\n",
       "      <th>0</th>\n",
       "      <td>6</td>\n",
       "      <td>2</td>\n",
       "      <td>4</td>\n",
       "      <td>1.289242e+09</td>\n",
       "    </tr>\n",
       "    <tr>\n",
       "      <th>1</th>\n",
       "      <td>6</td>\n",
       "      <td>5</td>\n",
       "      <td>2</td>\n",
       "      <td>1.289242e+09</td>\n",
       "    </tr>\n",
       "    <tr>\n",
       "      <th>2</th>\n",
       "      <td>1</td>\n",
       "      <td>15</td>\n",
       "      <td>1</td>\n",
       "      <td>1.289243e+09</td>\n",
       "    </tr>\n",
       "    <tr>\n",
       "      <th>3</th>\n",
       "      <td>4</td>\n",
       "      <td>3</td>\n",
       "      <td>7</td>\n",
       "      <td>1.289245e+09</td>\n",
       "    </tr>\n",
       "    <tr>\n",
       "      <th>4</th>\n",
       "      <td>13</td>\n",
       "      <td>16</td>\n",
       "      <td>8</td>\n",
       "      <td>1.289254e+09</td>\n",
       "    </tr>\n",
       "    <tr>\n",
       "      <th>...</th>\n",
       "      <td>...</td>\n",
       "      <td>...</td>\n",
       "      <td>...</td>\n",
       "      <td>...</td>\n",
       "    </tr>\n",
       "    <tr>\n",
       "      <th>35587</th>\n",
       "      <td>4499</td>\n",
       "      <td>1810</td>\n",
       "      <td>1</td>\n",
       "      <td>1.453612e+09</td>\n",
       "    </tr>\n",
       "    <tr>\n",
       "      <th>35588</th>\n",
       "      <td>2731</td>\n",
       "      <td>3901</td>\n",
       "      <td>5</td>\n",
       "      <td>1.453679e+09</td>\n",
       "    </tr>\n",
       "    <tr>\n",
       "      <th>35589</th>\n",
       "      <td>2731</td>\n",
       "      <td>4897</td>\n",
       "      <td>5</td>\n",
       "      <td>1.453679e+09</td>\n",
       "    </tr>\n",
       "    <tr>\n",
       "      <th>35590</th>\n",
       "      <td>13</td>\n",
       "      <td>1128</td>\n",
       "      <td>1</td>\n",
       "      <td>1.453680e+09</td>\n",
       "    </tr>\n",
       "    <tr>\n",
       "      <th>35591</th>\n",
       "      <td>1128</td>\n",
       "      <td>13</td>\n",
       "      <td>2</td>\n",
       "      <td>1.453684e+09</td>\n",
       "    </tr>\n",
       "  </tbody>\n",
       "</table>\n",
       "<p>35592 rows × 4 columns</p>\n",
       "</div>"
      ],
      "text/plain": [
       "          0     1  2             3\n",
       "0         6     2  4  1.289242e+09\n",
       "1         6     5  2  1.289242e+09\n",
       "2         1    15  1  1.289243e+09\n",
       "3         4     3  7  1.289245e+09\n",
       "4        13    16  8  1.289254e+09\n",
       "...     ...   ... ..           ...\n",
       "35587  4499  1810  1  1.453612e+09\n",
       "35588  2731  3901  5  1.453679e+09\n",
       "35589  2731  4897  5  1.453679e+09\n",
       "35590    13  1128  1  1.453680e+09\n",
       "35591  1128    13  2  1.453684e+09\n",
       "\n",
       "[35592 rows x 4 columns]"
      ]
     },
     "execution_count": 54,
     "metadata": {},
     "output_type": "execute_result"
    }
   ],
   "source": [
    "df"
   ]
  },
  {
   "cell_type": "code",
   "execution_count": 55,
   "metadata": {},
   "outputs": [],
   "source": [
    "arr = df.values"
   ]
  },
  {
   "cell_type": "code",
   "execution_count": 56,
   "metadata": {},
   "outputs": [
    {
     "data": {
      "text/plain": [
       "array([[6.00000000e+00, 2.00000000e+00, 4.00000000e+00, 1.28924191e+09],\n",
       "       [6.00000000e+00, 5.00000000e+00, 2.00000000e+00, 1.28924194e+09],\n",
       "       [1.00000000e+00, 1.50000000e+01, 1.00000000e+00, 1.28924314e+09],\n",
       "       ...,\n",
       "       [2.73100000e+03, 4.89700000e+03, 5.00000000e+00, 1.45367943e+09],\n",
       "       [1.30000000e+01, 1.12800000e+03, 1.00000000e+00, 1.45367963e+09],\n",
       "       [1.12800000e+03, 1.30000000e+01, 2.00000000e+00, 1.45368432e+09]])"
      ]
     },
     "execution_count": 56,
     "metadata": {},
     "output_type": "execute_result"
    }
   ],
   "source": [
    "arr"
   ]
  },
  {
   "cell_type": "code",
   "execution_count": 59,
   "metadata": {},
   "outputs": [],
   "source": [
    "ts = arr[:,3]"
   ]
  },
  {
   "cell_type": "code",
   "execution_count": 61,
   "metadata": {},
   "outputs": [
    {
     "data": {
      "text/plain": [
       "1289241911.72836"
      ]
     },
     "execution_count": 61,
     "metadata": {},
     "output_type": "execute_result"
    }
   ],
   "source": [
    "min(ts)"
   ]
  },
  {
   "cell_type": "code",
   "execution_count": 62,
   "metadata": {},
   "outputs": [],
   "source": [
    "deb =  1289174400 # 8/11/2010\n",
    "\n",
    "fin = 1453679940  # 24/1/2016"
   ]
  },
  {
   "cell_type": "code",
   "execution_count": 71,
   "metadata": {},
   "outputs": [],
   "source": [
    "interval = []\n",
    "st = deb + 2*week\n",
    "while st < fin:\n",
    "    interval.append(st)\n",
    "    st += 2*week"
   ]
  },
  {
   "cell_type": "code",
   "execution_count": 72,
   "metadata": {},
   "outputs": [
    {
     "data": {
      "text/plain": [
       "135"
      ]
     },
     "execution_count": 72,
     "metadata": {},
     "output_type": "execute_result"
    }
   ],
   "source": [
    "len(interval)"
   ]
  },
  {
   "cell_type": "code",
   "execution_count": 74,
   "metadata": {},
   "outputs": [
    {
     "data": {
      "text/plain": [
       "True"
      ]
     },
     "execution_count": 74,
     "metadata": {},
     "output_type": "execute_result"
    }
   ],
   "source": [
    "interval[0] == deb + 2*week"
   ]
  },
  {
   "cell_type": "code",
   "execution_count": 75,
   "metadata": {},
   "outputs": [],
   "source": [
    "start = deb # 7 novembre 2010 \n",
    "# fin # 21 Janvier 2016\n",
    "dict_inter = {}\n",
    "discretized_ts = []\n",
    "\n",
    "for l in arr:\n",
    "    t = l[3]\n",
    "    for i,inter in enumerate(interval):\n",
    "        if t < inter:\n",
    "            discretized_ts.append([l[0],l[1],l[2],i])\n",
    "            if i in dict_inter.keys():\n",
    "                dict_inter[i] += 1\n",
    "            else:\n",
    "                dict_inter[i] = 1\n",
    "            break\n",
    "    else:\n",
    "        discretized_ts.append([l[0],l[1],l[2],len(interval)])\n",
    "        if i in dict_inter.keys():\n",
    "            dict_inter[i] += 1\n",
    "        else:\n",
    "            dict_inter[i] = 1"
   ]
  },
  {
   "cell_type": "code",
   "execution_count": 78,
   "metadata": {},
   "outputs": [],
   "source": [
    "discretized_ts = np.array(discretized_ts,dtype=int)"
   ]
  },
  {
   "cell_type": "code",
   "execution_count": 79,
   "metadata": {},
   "outputs": [
    {
     "data": {
      "text/plain": [
       "array([[   6,    2,    4,    0],\n",
       "       [   6,    5,    2,    0],\n",
       "       [   1,   15,    1,    0],\n",
       "       ...,\n",
       "       [2731, 4897,    5,  135],\n",
       "       [  13, 1128,    1,  135],\n",
       "       [1128,   13,    2,  135]])"
      ]
     },
     "execution_count": 79,
     "metadata": {},
     "output_type": "execute_result"
    }
   ],
   "source": [
    "discretized_ts"
   ]
  },
  {
   "cell_type": "code",
   "execution_count": 82,
   "metadata": {},
   "outputs": [],
   "source": [
    "new_df = pd.DataFrame(discretized_ts, columns=['u', 'i', 'label','ts'])"
   ]
  },
  {
   "cell_type": "code",
   "execution_count": 83,
   "metadata": {},
   "outputs": [],
   "source": [
    "new_df.to_csv(file_save, index=False) "
   ]
  },
  {
   "cell_type": "code",
   "execution_count": 84,
   "metadata": {},
   "outputs": [
    {
     "data": {
      "text/plain": [
       "'/share/DEEPLEARNING/datasets/graph_datasets/Towards_better/TG_network_datasets/Bitcoin-OTC/ml_Bitcoin-OTC.csv'"
      ]
     },
     "execution_count": 84,
     "metadata": {},
     "output_type": "execute_result"
    }
   ],
   "source": [
    "file_save"
   ]
  },
  {
   "cell_type": "code",
   "execution_count": 85,
   "metadata": {},
   "outputs": [
    {
     "data": {
      "text/plain": [
       "35592"
      ]
     },
     "execution_count": 85,
     "metadata": {},
     "output_type": "execute_result"
    }
   ],
   "source": [
    "len(discretized_ts)"
   ]
  },
  {
   "cell_type": "code",
   "execution_count": 86,
   "metadata": {},
   "outputs": [
    {
     "data": {
      "text/plain": [
       "5881"
      ]
     },
     "execution_count": 86,
     "metadata": {},
     "output_type": "execute_result"
    }
   ],
   "source": [
    "len(np.unique(discretized_ts[:,:2]))"
   ]
  },
  {
   "cell_type": "code",
   "execution_count": 87,
   "metadata": {},
   "outputs": [
    {
     "data": {
      "text/plain": [
       "135"
      ]
     },
     "execution_count": 87,
     "metadata": {},
     "output_type": "execute_result"
    }
   ],
   "source": [
    "len(interval)"
   ]
  },
  {
   "cell_type": "code",
   "execution_count": null,
   "metadata": {},
   "outputs": [],
   "source": []
  }
 ],
 "metadata": {
  "kernelspec": {
   "display_name": "DGT",
   "language": "python",
   "name": "python3"
  },
  "language_info": {
   "codemirror_mode": {
    "name": "ipython",
    "version": 3
   },
   "file_extension": ".py",
   "mimetype": "text/x-python",
   "name": "python",
   "nbconvert_exporter": "python",
   "pygments_lexer": "ipython3",
   "version": "3.9.16"
  },
  "orig_nbformat": 4
 },
 "nbformat": 4,
 "nbformat_minor": 2
}
